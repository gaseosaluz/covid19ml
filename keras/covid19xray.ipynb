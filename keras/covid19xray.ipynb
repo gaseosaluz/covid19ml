{
 "cells": [
  {
   "cell_type": "markdown",
   "metadata": {},
   "source": [
    "# Detecting COVID-19 in X-Ray Images"
   ]
  },
  {
   "cell_type": "markdown",
   "metadata": {},
   "source": [
    "This notebook is a re-implemenation of the Python code found in \"Detecting COVID-19 in X-ray images with Keras, TensorFlow, and Deep Learning\" (https://www.pyimagesearch.com/2020/03/16/detecting-covid-19-in-x-ray-images-with-keras-tensorflow-and-deep-learning/). \n",
    "\n",
    "For the most part this Notebook takes the same algorithmic steps as the original article where (if) I make changes I note this.\n",
    "\n",
    "I have split the code in various 'blocks' so that I can combine the comments fromt the original post with some of the embedded comments in the code itself. I did this becasue this gave me more clarity on what Adrian's code is doing.  Also in many cases, I have separated Adrian's original code (as shown in his blog) post into seprate blocks, again accompanied by his comments or some personal minor observations."
   ]
  },
  {
   "cell_type": "markdown",
   "metadata": {},
   "source": [
    "## References\n",
    "\n",
    "* PyImageSearch. https://www.pyimagesearch.com/2020/03/16/detecting-covid-19-in-x-ray-images-with-keras-tensorflow-and-deep-learning/\n",
    "\n",
    "* Visualize Class Activation Maps. https://www.pyimagesearch.com/2020/03/09/grad-cam-visualize-class-activation-maps-with-keras-tensorflow-and-deep-learning/\n",
    "\n",
    "* Dataset used to get the COVID-19 images. Some useful comments in the Background and Motivation sectoin. https://github.com/ieee8023/covid-chestxray-dataset"
   ]
  },
  {
   "cell_type": "markdown",
   "metadata": {},
   "source": [
    "## Notes\n",
    " * My virtual environment is `conda` based. There is an `environment.yml` file in the repo for his project that should help reproduce my work."
   ]
  },
  {
   "cell_type": "markdown",
   "metadata": {},
   "source": [
    "## Setup the Environment\n",
    "\n",
    "Import the necessary packages"
   ]
  },
  {
   "cell_type": "code",
   "execution_count": 1,
   "metadata": {},
   "outputs": [],
   "source": [
    "from tensorflow.keras.preprocessing.image import ImageDataGenerator\n",
    "from tensorflow.keras.applications import VGG16\n",
    "from tensorflow.keras.layers import AveragePooling2D\n",
    "from tensorflow.keras.layers import Dropout\n",
    "from tensorflow.keras.layers import Flatten\n",
    "from tensorflow.keras.layers import Dense\n",
    "from tensorflow.keras.layers import Input\n",
    "from tensorflow.keras.models import Model\n",
    "from tensorflow.keras.optimizers import Adam\n",
    "from tensorflow.keras.utils import to_categorical\n",
    "from sklearn.preprocessing import LabelBinarizer\n",
    "from sklearn.model_selection import train_test_split\n",
    "from sklearn.metrics import classification_report\n",
    "from sklearn.metrics import confusion_matrix\n",
    "from imutils import paths\n",
    "import matplotlib.pyplot as plt\n",
    "import numpy as np\n",
    "import argparse\n",
    "import cv2\n",
    "import os"
   ]
  },
  {
   "cell_type": "markdown",
   "metadata": {},
   "source": [
    "## Arguments\n",
    "\n",
    "The original Python code form Adrian gets commands from the command line. Here in this notebook I set the variables directly in the code that follows. The variable names reflect the options in the `argparse` calls in the original code"
   ]
  },
  {
   "cell_type": "code",
   "execution_count": 2,
   "metadata": {},
   "outputs": [],
   "source": [
    "dataset = \"dataset/\"\n",
    "plot = \"plot.png\"\n",
    "model_name = \"covid19.model\""
   ]
  },
  {
   "cell_type": "markdown",
   "metadata": {},
   "source": [
    "## Initialize Training Parametes\n",
    "\n",
    "Initialize the initial learning rate, number of epochs to train for, and batch size"
   ]
  },
  {
   "cell_type": "code",
   "execution_count": 3,
   "metadata": {},
   "outputs": [],
   "source": [
    "INIT_LR = 1e-3\n",
    "EPOCHS = 25\n",
    "BS = 8"
   ]
  },
  {
   "cell_type": "markdown",
   "metadata": {},
   "source": [
    "## Load and Pre-Process the X-Ray data\n",
    "\n",
    "The code has been slightly changed to account for the fact that in this notebook we don't get the parameters fromt the command line, but are directly assigned to variables as seen in the \"Arguments\" section above."
   ]
  },
  {
   "cell_type": "code",
   "execution_count": 4,
   "metadata": {},
   "outputs": [
    {
     "name": "stdout",
     "output_type": "stream",
     "text": [
      "[INFO] loading images...\n"
     ]
    }
   ],
   "source": [
    "# grab the list of images in our dataset directory, then initialize\n",
    "# the list of data (i.e., images) and class images\n",
    "print(\"[INFO] loading images...\")\n",
    "\n",
    "imagePaths = list(paths.list_images(dataset))\n",
    "\n",
    "data = []\n",
    "labels = []\n",
    "\n",
    "# loop over the image paths\n",
    "for imagePath in imagePaths:\n",
    "    # extract the class label from the filename\n",
    "    label = imagePath.split(os.path.sep)[-2]\n",
    "    \n",
    "    # load the image, swap color channels, and resize it to be a fixed\n",
    "    # 224x224 pixels while ignoring aspect ratio\n",
    "    image = cv2.imread(imagePath)\n",
    "    image = cv2.cvtColor(image, cv2.COLOR_BGR2RGB)\n",
    "    image = cv2.resize(image, (224, 224))\n",
    "    \n",
    "    # update the data and labels lists, respectively\n",
    "    data.append(image)\n",
    "    labels.append(label)"
   ]
  },
  {
   "cell_type": "code",
   "execution_count": 5,
   "metadata": {},
   "outputs": [],
   "source": [
    "# convert the data and labels to NumPy arrays while scaling the pixel\n",
    "# intensities to the range [0, 1]\n",
    "data = np.array(data) / 255.0\n",
    "labels = np.array(labels)"
   ]
  },
  {
   "cell_type": "markdown",
   "metadata": {},
   "source": [
    "Next we will one-hot encode our labels and create the training/testing splits. "
   ]
  },
  {
   "cell_type": "code",
   "execution_count": 6,
   "metadata": {},
   "outputs": [
    {
     "name": "stdout",
     "output_type": "stream",
     "text": [
      "[[1. 0.]\n",
      " [1. 0.]\n",
      " [1. 0.]\n",
      " [1. 0.]\n",
      " [1. 0.]\n",
      " [1. 0.]\n",
      " [1. 0.]\n",
      " [1. 0.]\n",
      " [1. 0.]\n",
      " [1. 0.]\n",
      " [1. 0.]\n",
      " [1. 0.]\n",
      " [1. 0.]\n",
      " [1. 0.]\n",
      " [1. 0.]\n",
      " [1. 0.]\n",
      " [1. 0.]\n",
      " [1. 0.]\n",
      " [1. 0.]\n",
      " [1. 0.]\n",
      " [1. 0.]\n",
      " [1. 0.]\n",
      " [1. 0.]\n",
      " [1. 0.]\n",
      " [1. 0.]\n",
      " [0. 1.]\n",
      " [0. 1.]\n",
      " [0. 1.]\n",
      " [0. 1.]\n",
      " [0. 1.]\n",
      " [0. 1.]\n",
      " [0. 1.]\n",
      " [0. 1.]\n",
      " [0. 1.]\n",
      " [0. 1.]\n",
      " [0. 1.]\n",
      " [0. 1.]\n",
      " [0. 1.]\n",
      " [0. 1.]\n",
      " [0. 1.]\n",
      " [0. 1.]\n",
      " [0. 1.]\n",
      " [0. 1.]\n",
      " [0. 1.]\n",
      " [0. 1.]\n",
      " [0. 1.]\n",
      " [0. 1.]\n",
      " [0. 1.]\n",
      " [0. 1.]\n",
      " [0. 1.]]\n"
     ]
    }
   ],
   "source": [
    "# perform one-hot encoding on the labels\n",
    "lb = LabelBinarizer()\n",
    "labels = lb.fit_transform(labels)\n",
    "labels = to_categorical(labels); print(labels)\n",
    "\n",
    "# partition the data into training and testing splits using 80% of\n",
    "# the data for training and the remaining 20% for testing\n",
    "(trainX, testX, trainY, testY) = train_test_split(data, labels, \n",
    "                                                  test_size=0.20, \n",
    "                                                  stratify=labels, \n",
    "                                                  random_state=42)\n",
    "# initialize the training data augmentation object\n",
    "trainAug = ImageDataGenerator(rotation_range=15, \n",
    "                              fill_mode=\"nearest\")"
   ]
  },
  {
   "cell_type": "markdown",
   "metadata": {},
   "source": [
    "## Data Augmentation"
   ]
  },
  {
   "cell_type": "markdown",
   "metadata": {},
   "source": [
    "Since we have so few images, we want to 'increase' the number of samples available to the model via data augmentation. This will help the model generalize.  The code here uses the original data augmentation that was in the original post.  We could investigate other techniques but not sure if this would be worth it here, sine this work is only foe eductaional persons. (**NB** Some people in the comments in the original post appear strongly object to Adrian's work, but for the record Adrain has been very clear about the purpose of his post. It is in that origianl spirit (so I can learn and it is a good exercise for me to get familar with TF 2.0) that I created this Jupyter notebook\n",
    "\n",
    "The model used as the basis (for transfer learning) is **VGG16**\n",
    "\n",
    "The following block of code sets up the *fine tunning* of the `VGG16` model\n",
    "\n",
    "* Instantiates the VGG16 network with weights pre-trained on ImageNet, leaving off the fully connected (FC) layer head.\n",
    "\n",
    "* Constructs a new fully-connected layer head consisting of POOL => FC = SOFTMAX layers and appends it on top of VGG16.\n",
    "\n",
    "* Freezes the CONV weights of VGG16 such that only the FC layer head will be trained.\n",
    "\n",
    "If you want to see what lines do what, refer to the original post."
   ]
  },
  {
   "cell_type": "code",
   "execution_count": 7,
   "metadata": {},
   "outputs": [],
   "source": [
    "# load the VGG16 network, ensuring the head FC layer sets are left\n",
    "# off\n",
    "baseModel = VGG16(weights=\"imagenet\", \n",
    "                  include_top=False, \n",
    "                  input_tensor=Input(shape=(224, 224, 3)))\n",
    "\n",
    "# construct the head of the model that will be placed on top of the\n",
    "# the base model\n",
    "headModel = baseModel.output\n",
    "headModel = AveragePooling2D(pool_size=(4, 4))(headModel)\n",
    "#headModel = AveragePooling2D(pool_size=(2, 2))(headModel)\n",
    "headModel = Flatten(name=\"flatten\")(headModel)\n",
    "headModel = Dense(64, activation=\"relu\")(headModel)\n",
    "headModel = Dropout(0.5)(headModel)\n",
    "headModel = Dense(2, activation=\"softmax\")(headModel)\n",
    "\n",
    "# place the head FC model on top of the base model (this will become\n",
    "# the actual model we will train)\n",
    "model = Model(inputs=baseModel.input, outputs=headModel)\n",
    "\n",
    "# loop over all layers in the base model and freeze them so they will\n",
    "# *not* be updated during the first training process\n",
    "for layer in baseModel.layers:\n",
    "    layer.trainable = False"
   ]
  },
  {
   "cell_type": "markdown",
   "metadata": {},
   "source": [
    "## Compile and train the model\n",
    "\n",
    "The following block ompiles the network with learning rate decay and the Adam optimizer. Given that this is a 2-class problem, we use \"binary_crossentropy\" loss rather than categorical crossentropy."
   ]
  },
  {
   "cell_type": "code",
   "execution_count": 8,
   "metadata": {},
   "outputs": [
    {
     "name": "stdout",
     "output_type": "stream",
     "text": [
      "[INFO] compiling model...\n",
      "[INFO] training head...\n",
      "WARNING:tensorflow:From <ipython-input-8-3fd2e7f4cbb1>:13: Model.fit_generator (from tensorflow.python.keras.engine.training) is deprecated and will be removed in a future version.\n",
      "Instructions for updating:\n",
      "Please use Model.fit, which supports generators.\n",
      "WARNING:tensorflow:sample_weight modes were coerced from\n",
      "  ...\n",
      "    to  \n",
      "  ['...']\n",
      "Train for 5 steps, validate on 10 samples\n",
      "Epoch 1/25\n",
      "5/5 [==============================] - 2s 413ms/step - loss: 0.7769 - accuracy: 0.4750 - val_loss: 0.5161 - val_accuracy: 0.5000\n",
      "Epoch 2/25\n",
      "5/5 [==============================] - 0s 73ms/step - loss: 0.6695 - accuracy: 0.5750 - val_loss: 0.5060 - val_accuracy: 0.5000\n",
      "Epoch 3/25\n",
      "5/5 [==============================] - 0s 71ms/step - loss: 0.6695 - accuracy: 0.5750 - val_loss: 0.4970 - val_accuracy: 0.7500\n",
      "Epoch 4/25\n",
      "5/5 [==============================] - 0s 70ms/step - loss: 0.6700 - accuracy: 0.6000 - val_loss: 0.4865 - val_accuracy: 0.8750\n",
      "Epoch 5/25\n",
      "5/5 [==============================] - 0s 68ms/step - loss: 0.6329 - accuracy: 0.6000 - val_loss: 0.4731 - val_accuracy: 0.8750\n",
      "Epoch 6/25\n",
      "5/5 [==============================] - 0s 78ms/step - loss: 0.6899 - accuracy: 0.5250 - val_loss: 0.4556 - val_accuracy: 1.0000\n",
      "Epoch 7/25\n",
      "5/5 [==============================] - 0s 76ms/step - loss: 0.5871 - accuracy: 0.6500 - val_loss: 0.4409 - val_accuracy: 1.0000\n",
      "Epoch 8/25\n",
      "5/5 [==============================] - 0s 69ms/step - loss: 0.5852 - accuracy: 0.7250 - val_loss: 0.4276 - val_accuracy: 1.0000\n",
      "Epoch 9/25\n",
      "5/5 [==============================] - 0s 73ms/step - loss: 0.5488 - accuracy: 0.8250 - val_loss: 0.4196 - val_accuracy: 1.0000\n",
      "Epoch 10/25\n",
      "5/5 [==============================] - 0s 73ms/step - loss: 0.5513 - accuracy: 0.7250 - val_loss: 0.4087 - val_accuracy: 1.0000\n",
      "Epoch 11/25\n",
      "5/5 [==============================] - 0s 68ms/step - loss: 0.5468 - accuracy: 0.8250 - val_loss: 0.3918 - val_accuracy: 1.0000\n",
      "Epoch 12/25\n",
      "5/5 [==============================] - 0s 72ms/step - loss: 0.4821 - accuracy: 0.9250 - val_loss: 0.3800 - val_accuracy: 0.8750\n",
      "Epoch 13/25\n",
      "5/5 [==============================] - 0s 71ms/step - loss: 0.5152 - accuracy: 0.7250 - val_loss: 0.3641 - val_accuracy: 1.0000\n",
      "Epoch 14/25\n",
      "5/5 [==============================] - 0s 75ms/step - loss: 0.4447 - accuracy: 0.8750 - val_loss: 0.3533 - val_accuracy: 1.0000\n",
      "Epoch 15/25\n",
      "5/5 [==============================] - 0s 71ms/step - loss: 0.4468 - accuracy: 0.8500 - val_loss: 0.3355 - val_accuracy: 1.0000\n",
      "Epoch 16/25\n",
      "5/5 [==============================] - 0s 69ms/step - loss: 0.4832 - accuracy: 0.7750 - val_loss: 0.3252 - val_accuracy: 0.8750\n",
      "Epoch 17/25\n",
      "5/5 [==============================] - 0s 75ms/step - loss: 0.4349 - accuracy: 0.8500 - val_loss: 0.3067 - val_accuracy: 1.0000\n",
      "Epoch 18/25\n",
      "5/5 [==============================] - 0s 73ms/step - loss: 0.4375 - accuracy: 0.9000 - val_loss: 0.2964 - val_accuracy: 1.0000\n",
      "Epoch 19/25\n",
      "5/5 [==============================] - 0s 74ms/step - loss: 0.4810 - accuracy: 0.7750 - val_loss: 0.2882 - val_accuracy: 1.0000\n",
      "Epoch 20/25\n",
      "5/5 [==============================] - 0s 71ms/step - loss: 0.3747 - accuracy: 0.9250 - val_loss: 0.2785 - val_accuracy: 1.0000\n",
      "Epoch 21/25\n",
      "5/5 [==============================] - 0s 72ms/step - loss: 0.3926 - accuracy: 0.9000 - val_loss: 0.2657 - val_accuracy: 1.0000\n",
      "Epoch 22/25\n",
      "5/5 [==============================] - 0s 72ms/step - loss: 0.4058 - accuracy: 0.9000 - val_loss: 0.2521 - val_accuracy: 1.0000\n",
      "Epoch 23/25\n",
      "5/5 [==============================] - 0s 72ms/step - loss: 0.3357 - accuracy: 0.9750 - val_loss: 0.2423 - val_accuracy: 1.0000\n",
      "Epoch 24/25\n",
      "5/5 [==============================] - 0s 70ms/step - loss: 0.3784 - accuracy: 0.8750 - val_loss: 0.2369 - val_accuracy: 1.0000\n",
      "Epoch 25/25\n",
      "5/5 [==============================] - 0s 75ms/step - loss: 0.3280 - accuracy: 0.9250 - val_loss: 0.2257 - val_accuracy: 1.0000\n"
     ]
    }
   ],
   "source": [
    "# compile our model\n",
    "print(\"[INFO] compiling model...\")\n",
    "opt = Adam(lr=INIT_LR, decay=INIT_LR / EPOCHS)\n",
    "model.compile(loss=\"binary_crossentropy\", optimizer=opt,metrics=[\"accuracy\"])\n",
    "\n",
    "# train the head of the network\n",
    "print(\"[INFO] training head...\")\n",
    "H = model.fit_generator(\n",
    "    trainAug.flow(trainX, trainY, batch_size=BS),\n",
    "    steps_per_epoch=len(trainX) // BS,\n",
    "    validation_data=(testX, testY),\n",
    "    validation_steps=len(testX) // BS,\n",
    "    epochs=EPOCHS)"
   ]
  },
  {
   "cell_type": "markdown",
   "metadata": {},
   "source": [
    "## Evaluate the Model"
   ]
  },
  {
   "cell_type": "markdown",
   "metadata": {},
   "source": [
    "For evaluation, we first make predictions on the testing set and grab the prediction indices. We then generate and print out a classification report using scikit-learn’s helper utility. Next we’ll compute a confusion matrix for further statistical evaluation:"
   ]
  },
  {
   "cell_type": "code",
   "execution_count": 9,
   "metadata": {},
   "outputs": [
    {
     "name": "stdout",
     "output_type": "stream",
     "text": [
      "[INFO] evaluating network...\n",
      "              precision    recall  f1-score   support\n",
      "\n",
      "       covid       1.00      1.00      1.00         5\n",
      "      normal       1.00      1.00      1.00         5\n",
      "\n",
      "    accuracy                           1.00        10\n",
      "   macro avg       1.00      1.00      1.00        10\n",
      "weighted avg       1.00      1.00      1.00        10\n",
      "\n"
     ]
    }
   ],
   "source": [
    "# make predictions on the testing set\n",
    "print(\"[INFO] evaluating network...\")\n",
    "predIdxs = model.predict(testX, batch_size=BS)\n",
    "\n",
    "# for each image in the testing set we need to find the index of the\n",
    "# label with corresponding largest predicted probability\n",
    "predIdxs = np.argmax(predIdxs, axis=1)\n",
    "\n",
    "# show a nicely formatted classification report\n",
    "print(classification_report(testY.argmax(axis=1), predIdxs,\n",
    "    target_names=lb.classes_))"
   ]
  },
  {
   "cell_type": "code",
   "execution_count": 10,
   "metadata": {},
   "outputs": [
    {
     "name": "stdout",
     "output_type": "stream",
     "text": [
      "[[5 0]\n",
      " [0 5]]\n",
      "acc: 1.0000\n",
      "sensitivity: 1.0000\n",
      "specificity: 1.0000\n"
     ]
    }
   ],
   "source": [
    "# compute the confusion matrix and and use it to derive the raw\n",
    "# accuracy, sensitivity, and specificity\n",
    "cm = confusion_matrix(testY.argmax(axis=1), predIdxs)\n",
    "total = sum(sum(cm))\n",
    "acc = (cm[0, 0] + cm[1, 1]) / total\n",
    "sensitivity = cm[0, 0] / (cm[0, 0] + cm[0, 1])\n",
    "specificity = cm[1, 1] / (cm[1, 0] + cm[1, 1])\n",
    "\n",
    "# show the confusion matrix, accuracy, sensitivity, and specificity\n",
    "print(cm)\n",
    "print(\"acc: {:.4f}\".format(acc))\n",
    "print(\"sensitivity: {:.4f}\".format(sensitivity))\n",
    "print(\"specificity: {:.4f}\".format(specificity))"
   ]
  },
  {
   "cell_type": "markdown",
   "metadata": {},
   "source": [
    "## Plot Training Accuracy"
   ]
  },
  {
   "cell_type": "code",
   "execution_count": 11,
   "metadata": {},
   "outputs": [
    {
     "data": {
      "image/png": "[encoded data removed]",
      "text/plain": [
       "<Figure size 432x288 with 1 Axes>"
      ]
     },
     "metadata": {},
     "output_type": "display_data"
    }
   ],
   "source": [
    "# plot the training loss and accuracy\n",
    "N = EPOCHS\n",
    "plt.style.use(\"ggplot\")\n",
    "plt.figure()\n",
    "plt.plot(np.arange(0, N), H.history[\"loss\"], label=\"train_loss\")\n",
    "plt.plot(np.arange(0, N), H.history[\"val_loss\"], label=\"val_loss\")\n",
    "plt.plot(np.arange(0, N), H.history[\"accuracy\"], label=\"train_acc\")\n",
    "plt.plot(np.arange(0, N), H.history[\"val_accuracy\"], label=\"val_acc\")\n",
    "plt.title(\"Training Loss and Accuracy on COVID-19 Dataset\")\n",
    "plt.xlabel(\"Epoch #\")\n",
    "plt.ylabel(\"Loss/Accuracy\")\n",
    "plt.legend(loc=\"lower left\")\n",
    "plt.savefig(plot)"
   ]
  },
  {
   "cell_type": "markdown",
   "metadata": {},
   "source": [
    "## Save the Model to Disk"
   ]
  },
  {
   "cell_type": "code",
   "execution_count": 12,
   "metadata": {},
   "outputs": [
    {
     "name": "stdout",
     "output_type": "stream",
     "text": [
      "[INFO] saving COVID-19 detector model...\n"
     ]
    }
   ],
   "source": [
    "# serialize the model to disk\n",
    "print(\"[INFO] saving COVID-19 detector model...\")\n",
    "model.save(model_name, save_format=\"h5\")"
   ]
  },
  {
   "cell_type": "code",
   "execution_count": null,
   "metadata": {},
   "outputs": [],
   "source": []
  }
 ],
 "metadata": {
  "kernelspec": {
   "display_name": "Python 3",
   "language": "python",
   "name": "python3"
  },
  "language_info": {
   "codemirror_mode": {
    "name": "ipython",
    "version": 3
   },
   "file_extension": ".py",
   "mimetype": "text/x-python",
   "name": "python",
   "nbconvert_exporter": "python",
   "pygments_lexer": "ipython3",
   "version": "3.7.6"
  }
 },
 "nbformat": 4,
 "nbformat_minor": 4
}
